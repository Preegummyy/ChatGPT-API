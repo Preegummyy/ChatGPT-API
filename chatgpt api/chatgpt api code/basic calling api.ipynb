{
 "cells": [
  {
   "cell_type": "code",
   "execution_count": 57,
   "id": "9da196d7-32b2-4d84-b21a-758af0f6bf27",
   "metadata": {},
   "outputs": [],
   "source": [
    "from IPython.display import display"
   ]
  },
  {
   "cell_type": "code",
   "execution_count": 61,
   "id": "344d1730-cbf4-4ed6-ba04-17ced134dd14",
   "metadata": {},
   "outputs": [],
   "source": [
    "import openai\n",
    "\n",
    "openai.api_key = \"k-Ml9bQpaSbvmjGmq5nXB8T3BlbkFJZOeqRe8ToQu3H5bf7tsQ\""
   ]
  },
  {
   "cell_type": "code",
   "execution_count": 63,
   "id": "d649949b-da5d-41ff-9ffe-97dafd9ad88f",
   "metadata": {},
   "outputs": [
    {
     "data": {
      "text/plain": [
       "AuthenticationError(message='', http_status=401, request_id=None)"
      ]
     },
     "metadata": {},
     "output_type": "display_data"
    }
   ],
   "source": [
    "try:\n",
    "    # Make your OpenAI API request here\n",
    "    response = openai.Completion.create(prompt=\"Hello world\", model=\"text-davinci-003\")\n",
    "except openai.error.APIError as e:\n",
    "    # Handle API error here, e.g. retry or log\n",
    "    print(f\"OpenAI API returned an API Error: {e}\")\n",
    "except openai.error.APIConnectionError as e:\n",
    "    # Handle connection error here\n",
    "    print(f\"Failed to connect to OpenAI API: {e}\")\n",
    "except openai.error.RateLimitError as e:\n",
    "    # Handle rate limit error (we recommend using exponential backoff)\n",
    "    print(f\"OpenAI API request exceeded rate limit: {e}\")\n",
    "except Exception as e:\n",
    "    display(e)"
   ]
  },
  {
   "cell_type": "code",
   "execution_count": null,
   "id": "c5edd5c2-6b89-4a2c-9706-4534355b4b98",
   "metadata": {},
   "outputs": [],
   "source": []
  }
 ],
 "metadata": {
  "kernelspec": {
   "display_name": "Python 3 (ipykernel)",
   "language": "python",
   "name": "python3"
  },
  "language_info": {
   "codemirror_mode": {
    "name": "ipython",
    "version": 3
   },
   "file_extension": ".py",
   "mimetype": "text/x-python",
   "name": "python",
   "nbconvert_exporter": "python",
   "pygments_lexer": "ipython3",
   "version": "3.8.13"
  }
 },
 "nbformat": 4,
 "nbformat_minor": 5
}
