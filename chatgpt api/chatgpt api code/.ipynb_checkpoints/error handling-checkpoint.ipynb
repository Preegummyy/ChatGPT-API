{
 "cells": [
  {
   "cell_type": "code",
   "execution_count": 1,
   "id": "becd9fca-de34-4a8b-b243-bb6b3a33835b",
   "metadata": {},
   "outputs": [],
   "source": [
    "import openai\n",
    "from IPython.display import display"
   ]
  },
  {
   "cell_type": "markdown",
   "id": "c3184e01-1f7a-45a8-8ca1-1201ed5a9b90",
   "metadata": {},
   "source": [
    "# Common client error"
   ]
  },
  {
   "cell_type": "markdown",
   "id": "8d7b9963-d28d-4e78-8f73-b5a369046cb8",
   "metadata": {},
   "source": [
    "## AuthenticationError"
   ]
  },
  {
   "cell_type": "code",
   "execution_count": 2,
   "id": "c32c2b5e-ce24-4dce-948b-1cb00492a4f8",
   "metadata": {},
   "outputs": [
    {
     "data": {
      "text/plain": [
       "AuthenticationError(message='', http_status=401, request_id=None)"
      ]
     },
     "metadata": {},
     "output_type": "display_data"
    },
    {
     "name": "stdout",
     "output_type": "stream",
     "text": [
      "error type is <class 'openai.error.AuthenticationError'>\n"
     ]
    }
   ],
   "source": [
    "openai.api_key = \"invalid open api key\"\n",
    "try:\n",
    "    response = openai.Completion.create(prompt=\"Hello world\", model=\"text-davinci-003\")\n",
    "except Exception as e:\n",
    "    display(e)\n",
    "    print(f\"error type is {type(e)}\")"
   ]
  },
  {
   "cell_type": "code",
   "execution_count": 3,
   "id": "e9a09183-dd09-4d52-a608-f527aa188dfa",
   "metadata": {},
   "outputs": [],
   "source": [
    "openai.api_key = \"<your_open_api_key>\"\n",
    "try:\n",
    "    response = openai.Completion.create(prompt=\"Hello world\", model=\"text-davinci-003\")\n",
    "except Exception as e:\n",
    "    display(e)\n",
    "    print(f\"error type is {type(e)}\")"
   ]
  },
  {
   "cell_type": "code",
   "execution_count": 4,
   "id": "a7627216-b652-4606-802c-0f99bc05c08e",
   "metadata": {},
   "outputs": [
    {
     "name": "stdout",
     "output_type": "stream",
     "text": [
      "{\n",
      "  \"choices\": [\n",
      "    {\n",
      "      \"finish_reason\": \"length\",\n",
      "      \"index\": 0,\n",
      "      \"logprobs\": null,\n",
      "      \"text\": \"!\\n\\nMy name is Lily and I'm new to programming. I'm\"\n",
      "    }\n",
      "  ],\n",
      "  \"created\": 1685712948,\n",
      "  \"id\": \"cmpl-7MzES0bAe1uRHSKkogZAgyFUP3wZh\",\n",
      "  \"model\": \"text-davinci-003\",\n",
      "  \"object\": \"text_completion\",\n",
      "  \"usage\": {\n",
      "    \"completion_tokens\": 16,\n",
      "    \"prompt_tokens\": 2,\n",
      "    \"total_tokens\": 18\n",
      "  }\n",
      "}\n"
     ]
    }
   ],
   "source": [
    "print(response)"
   ]
  },
  {
   "cell_type": "markdown",
   "id": "8ef6a263-8637-4b4f-8553-4b940d6a21bc",
   "metadata": {},
   "source": [
    "## InvalidRequestError"
   ]
  },
  {
   "cell_type": "code",
   "execution_count": 5,
   "id": "68478aa9-d7d5-4fc0-822f-8386a3d47a49",
   "metadata": {},
   "outputs": [
    {
     "data": {
      "text/plain": [
       "InvalidRequestError(message='The model `text-davinci-004` does not exist', param=None, code=None, http_status=404, request_id=None)"
      ]
     },
     "metadata": {},
     "output_type": "display_data"
    },
    {
     "name": "stdout",
     "output_type": "stream",
     "text": [
      "error type is <class 'openai.error.InvalidRequestError'>\n"
     ]
    }
   ],
   "source": [
    "openai.api_key = \"<your_open_api_key>\"\n",
    "try:\n",
    "    response = openai.Completion.create(prompt=\"Hello world\", model=\"text-davinci-004\")\n",
    "except Exception as e:\n",
    "    display(e)\n",
    "    print(f\"error type is {type(e)}\")"
   ]
  },
  {
   "cell_type": "markdown",
   "id": "785354d5-4854-43da-ad1a-7f39088207d4",
   "metadata": {},
   "source": [
    "## RateLimitError"
   ]
  },
  {
   "cell_type": "code",
   "execution_count": 9,
   "id": "0bcbd81e-048c-4b84-b236-4cf40aa4ac55",
   "metadata": {},
   "outputs": [
    {
     "data": {
      "text/plain": [
       "RateLimitError(message='The server had an error while processing your request. Sorry about that!', http_status=429, request_id=None)"
      ]
     },
     "metadata": {},
     "output_type": "display_data"
    },
    {
     "name": "stdout",
     "output_type": "stream",
     "text": [
      "error type is <class 'openai.error.RateLimitError'>\n"
     ]
    }
   ],
   "source": [
    "openai.api_key = \"<your_open_api_key>\"\n",
    "try:\n",
    "    for i in range(10000):\n",
    "        response = openai.Completion.create(\n",
    "            prompt=\"Hello world\", model=\"text-davinci-003\"\n",
    "        )\n",
    "except Exception as e:\n",
    "    display(e)\n",
    "    print(f\"error type is {type(e)}\")"
   ]
  },
  {
   "cell_type": "markdown",
   "id": "1ecac833-7c22-400a-85cb-78b7677a06ed",
   "metadata": {},
   "source": [
    "# Best Practices"
   ]
  },
  {
   "cell_type": "code",
   "execution_count": 6,
   "id": "7f829aba-0ca7-4f2a-b0ba-95272a27e443",
   "metadata": {},
   "outputs": [],
   "source": [
    "import logging\n",
    "import time\n",
    "\n",
    "# Set up logging\n",
    "logging.basicConfig(filename=\"openai_api_errors.log\", level=logging.ERROR)\n",
    "\n",
    "# Your API key\n",
    "openai.api_key = \"<your_open_api_key>\"\n",
    "\n",
    "\n",
    "def completion():\n",
    "    while True:\n",
    "        try:\n",
    "            response = openai.Completion.create(\n",
    "                engine=\"text-davinci-003\",\n",
    "                prompt=\"Translate this English text to French: '{}'\",\n",
    "                max_tokens=60,\n",
    "            )\n",
    "            # If successful, break the loop and return the response\n",
    "            return response\n",
    "        except openai.error.AuthenticationError:\n",
    "            logging.error(\"AuthenticationError: Invalid API key.\")\n",
    "            print(\n",
    "                \"There was a problem with your authentication. Please check your API key.\"\n",
    "            )\n",
    "            break\n",
    "        except openai.error.InvalidRequestError:\n",
    "            logging.error(\"InvalidRequestError: Invalid API request.\")\n",
    "            print(\"You made an invalid request. Please check the provided parameters.\")\n",
    "            break\n",
    "        except openai.error.RateLimitError:\n",
    "            logging.error(\"RateLimitError: API request limit exceeded.\")\n",
    "            print(\n",
    "                \"You've exceeded your rate limit. Waiting for 60 seconds before retrying...\"\n",
    "            )\n",
    "            time.sleep(20)  # wait for 20 seconds before next API call\n",
    "        except Exception as e:\n",
    "            logging.error(f\"Unexpected error: {str(e)}\")\n",
    "            print(\"An unexpected error occurred. Please check the application logs.\")\n",
    "            break"
   ]
  },
  {
   "cell_type": "code",
   "execution_count": 7,
   "id": "d17f6b10-5cc9-41ea-b07f-ea00d1ff8ece",
   "metadata": {},
   "outputs": [
    {
     "data": {
      "text/plain": [
       "<OpenAIObject text_completion id=cmpl-7MzElzWX9cC28fyC7p2aUQDoP3A5E at 0x24e5c5bdf90> JSON: {\n",
       "  \"choices\": [\n",
       "    {\n",
       "      \"finish_reason\": \"stop\",\n",
       "      \"index\": 0,\n",
       "      \"logprobs\": null,\n",
       "      \"text\": \"\\n\\n'J'aime apprendre de nouvelles choses.'\\n\\n'J'aime apprendre de nouvelles choses.'\"\n",
       "    }\n",
       "  ],\n",
       "  \"created\": 1685712967,\n",
       "  \"id\": \"cmpl-7MzElzWX9cC28fyC7p2aUQDoP3A5E\",\n",
       "  \"model\": \"text-davinci-003\",\n",
       "  \"object\": \"text_completion\",\n",
       "  \"usage\": {\n",
       "    \"completion_tokens\": 36,\n",
       "    \"prompt_tokens\": 12,\n",
       "    \"total_tokens\": 48\n",
       "  }\n",
       "}"
      ]
     },
     "execution_count": 7,
     "metadata": {},
     "output_type": "execute_result"
    }
   ],
   "source": [
    "completion()"
   ]
  },
  {
   "cell_type": "code",
   "execution_count": 8,
   "id": "1e445c62-6354-444d-90b8-e452a71bf903",
   "metadata": {},
   "outputs": [
    {
     "name": "stdout",
     "output_type": "stream",
     "text": [
      "There was a problem with your authentication. Please check your API key.\n"
     ]
    }
   ],
   "source": [
    "openai.api_key = \"invalid open api key\"\n",
    "completion()"
   ]
  },
  {
   "cell_type": "code",
   "execution_count": null,
   "id": "93f8feda-b4c2-4c0e-b84b-0864c699db7b",
   "metadata": {},
   "outputs": [],
   "source": []
  }
 ],
 "metadata": {
  "kernelspec": {
   "display_name": "Python 3 (ipykernel)",
   "language": "python",
   "name": "python3"
  },
  "language_info": {
   "codemirror_mode": {
    "name": "ipython",
    "version": 3
   },
   "file_extension": ".py",
   "mimetype": "text/x-python",
   "name": "python",
   "nbconvert_exporter": "python",
   "pygments_lexer": "ipython3",
   "version": "3.8.13"
  }
 },
 "nbformat": 4,
 "nbformat_minor": 5
}
