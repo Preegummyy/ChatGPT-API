{
 "cells": [
  {
   "cell_type": "code",
   "execution_count": 1,
   "id": "3e2b7be9-5201-4ee1-bcb3-c0045818b42c",
   "metadata": {},
   "outputs": [],
   "source": [
    "import openai\n",
    "\n",
    "openai.api_key = \"<your_open_api_key>\""
   ]
  },
  {
   "cell_type": "markdown",
   "id": "a3c8f6eb-4dd6-4d57-a7dd-10724aea2b8d",
   "metadata": {},
   "source": [
    "# Completion"
   ]
  },
  {
   "cell_type": "code",
   "execution_count": 2,
   "id": "d649949b-da5d-41ff-9ffe-97dafd9ad88f",
   "metadata": {},
   "outputs": [
    {
     "data": {
      "text/plain": [
       "<OpenAIObject text_completion id=cmpl-7MzlOtOiXSgtZZu757ThpsUPJHmPr at 0x2168da5fd10> JSON: {\n",
       "  \"choices\": [\n",
       "    {\n",
       "      \"finish_reason\": \"stop\",\n",
       "      \"index\": 0,\n",
       "      \"logprobs\": null,\n",
       "      \"text\": \"\\n\\nThis is indeed a test.\"\n",
       "    }\n",
       "  ],\n",
       "  \"created\": 1685714990,\n",
       "  \"id\": \"cmpl-7MzlOtOiXSgtZZu757ThpsUPJHmPr\",\n",
       "  \"model\": \"text-davinci-003\",\n",
       "  \"object\": \"text_completion\",\n",
       "  \"usage\": {\n",
       "    \"completion_tokens\": 8,\n",
       "    \"prompt_tokens\": 5,\n",
       "    \"total_tokens\": 13\n",
       "  }\n",
       "}"
      ]
     },
     "execution_count": 2,
     "metadata": {},
     "output_type": "execute_result"
    }
   ],
   "source": [
    "openai.Completion.create(\n",
    "    model=\"text-davinci-003\",\n",
    "    prompt=\"Say this is a test\",\n",
    "    temperature=1,\n",
    "    max_tokens=256,\n",
    "    top_p=1,\n",
    "    frequency_penalty=0,\n",
    "    presence_penalty=0,\n",
    ")"
   ]
  },
  {
   "cell_type": "code",
   "execution_count": 3,
   "id": "606125bb-6b55-47fc-bb38-ee9fb6d0fc26",
   "metadata": {},
   "outputs": [
    {
     "data": {
      "text/plain": [
       "<OpenAIObject text_completion id=cmpl-7MzlQQVm2xVmy7BDwjERRiWlgwqxW at 0x2168da074a0> JSON: {\n",
       "  \"choices\": [\n",
       "    {\n",
       "      \"finish_reason\": \"stop\",\n",
       "      \"index\": 0,\n",
       "      \"logprobs\": null,\n",
       "      \"text\": \"\\n\\nThis is indeed a test.\"\n",
       "    },\n",
       "    {\n",
       "      \"finish_reason\": \"stop\",\n",
       "      \"index\": 1,\n",
       "      \"logprobs\": null,\n",
       "      \"text\": \"\\n\\nYes, this is a test.\"\n",
       "    }\n",
       "  ],\n",
       "  \"created\": 1685714992,\n",
       "  \"id\": \"cmpl-7MzlQQVm2xVmy7BDwjERRiWlgwqxW\",\n",
       "  \"model\": \"text-davinci-003\",\n",
       "  \"object\": \"text_completion\",\n",
       "  \"usage\": {\n",
       "    \"completion_tokens\": 17,\n",
       "    \"prompt_tokens\": 7,\n",
       "    \"total_tokens\": 24\n",
       "  }\n",
       "}"
      ]
     },
     "execution_count": 3,
     "metadata": {},
     "output_type": "execute_result"
    }
   ],
   "source": [
    "openai.Completion.create(\n",
    "    model=\"text-davinci-003\",\n",
    "    prompt=\"Say this is a test, \",\n",
    "    temperature=1,\n",
    "    max_tokens=256,\n",
    "    top_p=1,\n",
    "    frequency_penalty=0,\n",
    "    presence_penalty=0,\n",
    "    n=2,\n",
    ")"
   ]
  },
  {
   "cell_type": "code",
   "execution_count": 4,
   "id": "045a0e3c-ac9d-4879-8cd6-f4829993d0ec",
   "metadata": {},
   "outputs": [
    {
     "data": {
      "text/plain": [
       "<OpenAIObject text_completion id=cmpl-7MzlRJgkXsCODknZUkjGvtSwiXzEV at 0x2168ddc2d10> JSON: {\n",
       "  \"choices\": [\n",
       "    {\n",
       "      \"finish_reason\": \"length\",\n",
       "      \"index\": 0,\n",
       "      \"logprobs\": null,\n",
       "      \"text\": \"\\n\\nThis is\"\n",
       "    }\n",
       "  ],\n",
       "  \"created\": 1685714993,\n",
       "  \"id\": \"cmpl-7MzlRJgkXsCODknZUkjGvtSwiXzEV\",\n",
       "  \"model\": \"text-davinci-003\",\n",
       "  \"object\": \"text_completion\",\n",
       "  \"usage\": {\n",
       "    \"completion_tokens\": 4,\n",
       "    \"prompt_tokens\": 7,\n",
       "    \"total_tokens\": 11\n",
       "  }\n",
       "}"
      ]
     },
     "execution_count": 4,
     "metadata": {},
     "output_type": "execute_result"
    }
   ],
   "source": [
    "openai.Completion.create(\n",
    "    model=\"text-davinci-003\",\n",
    "    prompt=\"Say this is a test, \",\n",
    "    temperature=1,\n",
    "    max_tokens=4,\n",
    "    top_p=1,\n",
    "    frequency_penalty=0,\n",
    "    presence_penalty=0,\n",
    ")"
   ]
  },
  {
   "cell_type": "markdown",
   "id": "dc53683b-64ff-4c02-8ceb-5e8a2c3618c4",
   "metadata": {},
   "source": [
    "# Chat"
   ]
  },
  {
   "cell_type": "code",
   "execution_count": 5,
   "id": "9c3fc6b2-87ed-4d72-84c5-02a5c29e89d2",
   "metadata": {},
   "outputs": [
    {
     "data": {
      "text/plain": [
       "<OpenAIObject chat.completion id=chatcmpl-7MzlSgHUwBd4jw92zMtcAitjdeAUJ at 0x2168d9d20e0> JSON: {\n",
       "  \"choices\": [\n",
       "    {\n",
       "      \"finish_reason\": \"stop\",\n",
       "      \"index\": 0,\n",
       "      \"message\": {\n",
       "        \"content\": \"Spain.\",\n",
       "        \"role\": \"assistant\"\n",
       "      }\n",
       "    }\n",
       "  ],\n",
       "  \"created\": 1685714994,\n",
       "  \"id\": \"chatcmpl-7MzlSgHUwBd4jw92zMtcAitjdeAUJ\",\n",
       "  \"model\": \"gpt-3.5-turbo-0301\",\n",
       "  \"object\": \"chat.completion\",\n",
       "  \"usage\": {\n",
       "    \"completion_tokens\": 2,\n",
       "    \"prompt_tokens\": 19,\n",
       "    \"total_tokens\": 21\n",
       "  }\n",
       "}"
      ]
     },
     "execution_count": 5,
     "metadata": {},
     "output_type": "execute_result"
    }
   ],
   "source": [
    "openai.ChatCompletion.create(\n",
    "    model=\"gpt-3.5-turbo\",\n",
    "    messages=[{\"role\": \"user\", \"content\": \"Who won the football world cup in 2010?\"}],\n",
    "    temperature=1,\n",
    "    max_tokens=256,\n",
    "    top_p=1,\n",
    "    frequency_penalty=0,\n",
    "    presence_penalty=0,\n",
    ")"
   ]
  },
  {
   "cell_type": "code",
   "execution_count": 6,
   "id": "c5edd5c2-6b89-4a2c-9706-4534355b4b98",
   "metadata": {},
   "outputs": [
    {
     "data": {
      "text/plain": [
       "<OpenAIObject chat.completion id=chatcmpl-7MzlUBxpY5HIEU2Y4T1gQ5BrGejYR at 0x216907d4770> JSON: {\n",
       "  \"choices\": [\n",
       "    {\n",
       "      \"finish_reason\": \"stop\",\n",
       "      \"index\": 0,\n",
       "      \"message\": {\n",
       "        \"content\": \"The 2014 football World Cup was played in Brazil.\",\n",
       "        \"role\": \"assistant\"\n",
       "      }\n",
       "    }\n",
       "  ],\n",
       "  \"created\": 1685714996,\n",
       "  \"id\": \"chatcmpl-7MzlUBxpY5HIEU2Y4T1gQ5BrGejYR\",\n",
       "  \"model\": \"gpt-3.5-turbo-0301\",\n",
       "  \"object\": \"chat.completion\",\n",
       "  \"usage\": {\n",
       "    \"completion_tokens\": 12,\n",
       "    \"prompt_tokens\": 45,\n",
       "    \"total_tokens\": 57\n",
       "  }\n",
       "}"
      ]
     },
     "execution_count": 6,
     "metadata": {},
     "output_type": "execute_result"
    }
   ],
   "source": [
    "openai.ChatCompletion.create(\n",
    "    model=\"gpt-3.5-turbo\",\n",
    "    messages=[\n",
    "        {\"role\": \"user\", \"content\": \"Who won the football world cup in 2014?\"},\n",
    "        {\"role\": \"assistant\", \"content\": \"Germany won the football world cup in 2014.\"},\n",
    "        {\"role\": \"user\", \"content\": \"Where was it played?\"},\n",
    "    ],\n",
    "    temperature=1,\n",
    "    max_tokens=256,\n",
    "    top_p=1,\n",
    "    frequency_penalty=0,\n",
    "    presence_penalty=0,\n",
    ")"
   ]
  },
  {
   "cell_type": "code",
   "execution_count": 7,
   "id": "f75d1366-b276-4b30-88f7-5749d0ed4ed2",
   "metadata": {},
   "outputs": [
    {
     "data": {
      "text/plain": [
       "<OpenAIObject chat.completion id=chatcmpl-7MzlWBpXiFDHVg2XtFXrbXyU4LDuN at 0x216908381d0> JSON: {\n",
       "  \"choices\": [\n",
       "    {\n",
       "      \"finish_reason\": \"stop\",\n",
       "      \"index\": 0,\n",
       "      \"message\": {\n",
       "        \"content\": \"Quantum physics is a type of science that helps us understand how tiny things like atoms and particles work.\",\n",
       "        \"role\": \"assistant\"\n",
       "      }\n",
       "    }\n",
       "  ],\n",
       "  \"created\": 1685714998,\n",
       "  \"id\": \"chatcmpl-7MzlWBpXiFDHVg2XtFXrbXyU4LDuN\",\n",
       "  \"model\": \"gpt-3.5-turbo-0301\",\n",
       "  \"object\": \"chat.completion\",\n",
       "  \"usage\": {\n",
       "    \"completion_tokens\": 21,\n",
       "    \"prompt_tokens\": 28,\n",
       "    \"total_tokens\": 49\n",
       "  }\n",
       "}"
      ]
     },
     "execution_count": 7,
     "metadata": {},
     "output_type": "execute_result"
    }
   ],
   "source": [
    "openai.ChatCompletion.create(\n",
    "    model=\"gpt-3.5-turbo\",\n",
    "    messages=[\n",
    "        {\"role\": \"system\", \"content\": \"Answer in one sentence.\"},\n",
    "        {\"role\": \"user\", \"content\": \"How do you explain quantum physics to a child?\"},\n",
    "    ],\n",
    "    temperature=1,\n",
    "    max_tokens=256,\n",
    "    top_p=1,\n",
    "    frequency_penalty=0,\n",
    "    presence_penalty=0,\n",
    ")"
   ]
  },
  {
   "cell_type": "markdown",
   "id": "61a9986b-9a6a-4643-a0db-8d99e637b23d",
   "metadata": {},
   "source": [
    "# Edit"
   ]
  },
  {
   "cell_type": "code",
   "execution_count": 8,
   "id": "d3398270-d6f1-4b4a-aa1c-d69d75d04993",
   "metadata": {},
   "outputs": [
    {
     "data": {
      "text/plain": [
       "<OpenAIObject edit at 0x216908289a0> JSON: {\n",
       "  \"choices\": [\n",
       "    {\n",
       "      \"index\": 0,\n",
       "      \"text\": \"What day of the week is it?\\n\"\n",
       "    }\n",
       "  ],\n",
       "  \"created\": 1685715001,\n",
       "  \"object\": \"edit\",\n",
       "  \"usage\": {\n",
       "    \"completion_tokens\": 28,\n",
       "    \"prompt_tokens\": 26,\n",
       "    \"total_tokens\": 54\n",
       "  }\n",
       "}"
      ]
     },
     "execution_count": 8,
     "metadata": {},
     "output_type": "execute_result"
    }
   ],
   "source": [
    "openai.Edit.create(\n",
    "    model=\"text-davinci-edit-001\",\n",
    "    input=\"What day of the wek is it?\",\n",
    "    instruction=\"Fix the spelling mistakes.\",\n",
    ")"
   ]
  },
  {
   "cell_type": "code",
   "execution_count": 9,
   "id": "19b8737d-9fa4-4537-97b7-fe3c31a5a9f8",
   "metadata": {},
   "outputs": [
    {
     "data": {
      "text/plain": [
       "<OpenAIObject edit at 0x2169082ee00> JSON: {\n",
       "  \"choices\": [\n",
       "    {\n",
       "      \"index\": 0,\n",
       "      \"text\": \"Friday is a day of the week.\\n\"\n",
       "    }\n",
       "  ],\n",
       "  \"created\": 1685715002,\n",
       "  \"object\": \"edit\",\n",
       "  \"usage\": {\n",
       "    \"completion_tokens\": 26,\n",
       "    \"prompt_tokens\": 22,\n",
       "    \"total_tokens\": 48\n",
       "  }\n",
       "}"
      ]
     },
     "execution_count": 9,
     "metadata": {},
     "output_type": "execute_result"
    }
   ],
   "source": [
    "openai.Edit.create(\n",
    "    model=\"text-davinci-edit-001\",\n",
    "    input=\"Friday is day of a the week\",\n",
    "    instruction=\"Fix grammar.\",\n",
    ")"
   ]
  }
 ],
 "metadata": {
  "kernelspec": {
   "display_name": "Python 3 (ipykernel)",
   "language": "python",
   "name": "python3"
  },
  "language_info": {
   "codemirror_mode": {
    "name": "ipython",
    "version": 3
   },
   "file_extension": ".py",
   "mimetype": "text/x-python",
   "name": "python",
   "nbconvert_exporter": "python",
   "pygments_lexer": "ipython3",
   "version": "3.8.13"
  }
 },
 "nbformat": 4,
 "nbformat_minor": 5
}
